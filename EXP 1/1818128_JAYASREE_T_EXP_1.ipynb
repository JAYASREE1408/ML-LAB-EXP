{
  "nbformat": 4,
  "nbformat_minor": 0,
  "metadata": {
    "colab": {
      "name": "1818128_JAYASREE T_EXP 1.ipynb",
      "provenance": []
    },
    "kernelspec": {
      "name": "python3",
      "display_name": "Python 3"
    }
  },
  "cells": [
    {
      "cell_type": "markdown",
      "metadata": {
        "id": "view-in-github"
      },
      "source": [
        "\r\n",
        "# **MACHINE LEARNING LABORATORY**\r\n",
        "\r\n",
        "---------\r\n",
        "# **1818128_JAYASREE T**\r\n",
        "#**✫ EXP 1 : NAIVE BAYES CLASSIFIER**\r\n",
        "\r\n",
        "\r\n",
        "\r\n",
        "\r\n",
        "\r\n",
        "\r\n",
        "\r\n",
        "\r\n",
        "\r\n"
      ]
    },
    {
      "cell_type": "markdown",
      "metadata": {
        "id": "VcBUn8oz3-Sk"
      },
      "source": [
        "### **Importing the Dataset**\r\n"
      ]
    },
    {
      "cell_type": "code",
      "metadata": {
        "colab": {
          "base_uri": "https://localhost:8080/",
          "height": 204
        },
        "id": "g-yOynYFZauk",
        "outputId": "db9442b2-5507-4ef4-ad0b-3b82b2695f2e"
      },
      "source": [
        "import pandas as pd\r\n",
        "df = pd.read_csv(\"play_tennis.csv\")\r\n",
        "# Drop Day column as it is not required to build the model\r\n",
        "df.drop('day', axis='columns', inplace=True ) \r\n",
        "df.head()"
      ],
      "execution_count": null,
      "outputs": [
        {
          "output_type": "execute_result",
          "data": {
            "text/html": [
              "<div>\n",
              "<style scoped>\n",
              "    .dataframe tbody tr th:only-of-type {\n",
              "        vertical-align: middle;\n",
              "    }\n",
              "\n",
              "    .dataframe tbody tr th {\n",
              "        vertical-align: top;\n",
              "    }\n",
              "\n",
              "    .dataframe thead th {\n",
              "        text-align: right;\n",
              "    }\n",
              "</style>\n",
              "<table border=\"1\" class=\"dataframe\">\n",
              "  <thead>\n",
              "    <tr style=\"text-align: right;\">\n",
              "      <th></th>\n",
              "      <th>outlook</th>\n",
              "      <th>temp</th>\n",
              "      <th>humidity</th>\n",
              "      <th>wind</th>\n",
              "      <th>play</th>\n",
              "    </tr>\n",
              "  </thead>\n",
              "  <tbody>\n",
              "    <tr>\n",
              "      <th>0</th>\n",
              "      <td>Sunny</td>\n",
              "      <td>Hot</td>\n",
              "      <td>High</td>\n",
              "      <td>Weak</td>\n",
              "      <td>No</td>\n",
              "    </tr>\n",
              "    <tr>\n",
              "      <th>1</th>\n",
              "      <td>Sunny</td>\n",
              "      <td>Hot</td>\n",
              "      <td>High</td>\n",
              "      <td>Strong</td>\n",
              "      <td>No</td>\n",
              "    </tr>\n",
              "    <tr>\n",
              "      <th>2</th>\n",
              "      <td>Overcast</td>\n",
              "      <td>Hot</td>\n",
              "      <td>High</td>\n",
              "      <td>Weak</td>\n",
              "      <td>Yes</td>\n",
              "    </tr>\n",
              "    <tr>\n",
              "      <th>3</th>\n",
              "      <td>Rain</td>\n",
              "      <td>Mild</td>\n",
              "      <td>High</td>\n",
              "      <td>Weak</td>\n",
              "      <td>Yes</td>\n",
              "    </tr>\n",
              "    <tr>\n",
              "      <th>4</th>\n",
              "      <td>Rain</td>\n",
              "      <td>Cool</td>\n",
              "      <td>Normal</td>\n",
              "      <td>Weak</td>\n",
              "      <td>Yes</td>\n",
              "    </tr>\n",
              "  </tbody>\n",
              "</table>\n",
              "</div>"
            ],
            "text/plain": [
              "    outlook  temp humidity    wind play\n",
              "0     Sunny   Hot     High    Weak   No\n",
              "1     Sunny   Hot     High  Strong   No\n",
              "2  Overcast   Hot     High    Weak  Yes\n",
              "3      Rain  Mild     High    Weak  Yes\n",
              "4      Rain  Cool   Normal    Weak  Yes"
            ]
          },
          "metadata": {
            "tags": []
          },
          "execution_count": 1
        }
      ]
    },
    {
      "cell_type": "markdown",
      "metadata": {
        "id": "qpxA-iAd4dso"
      },
      "source": [
        "### **Label Encoding**"
      ]
    },
    {
      "cell_type": "code",
      "metadata": {
        "id": "hHPTLBThuRoR",
        "colab": {
          "base_uri": "https://localhost:8080/",
          "height": 204
        },
        "outputId": "2c9f9f1e-265a-4760-89fb-69085ab5aa2e"
      },
      "source": [
        "# LabelEncoder converts categoial data into a numbers from 0 to (n-1)\r\n",
        "\r\n",
        "from sklearn.preprocessing import LabelEncoder\r\n",
        "df[df.columns[:]] = df[df.columns[:]].apply(LabelEncoder().fit_transform)\r\n",
        "df.head()"
      ],
      "execution_count": null,
      "outputs": [
        {
          "output_type": "execute_result",
          "data": {
            "text/html": [
              "<div>\n",
              "<style scoped>\n",
              "    .dataframe tbody tr th:only-of-type {\n",
              "        vertical-align: middle;\n",
              "    }\n",
              "\n",
              "    .dataframe tbody tr th {\n",
              "        vertical-align: top;\n",
              "    }\n",
              "\n",
              "    .dataframe thead th {\n",
              "        text-align: right;\n",
              "    }\n",
              "</style>\n",
              "<table border=\"1\" class=\"dataframe\">\n",
              "  <thead>\n",
              "    <tr style=\"text-align: right;\">\n",
              "      <th></th>\n",
              "      <th>outlook</th>\n",
              "      <th>temp</th>\n",
              "      <th>humidity</th>\n",
              "      <th>wind</th>\n",
              "      <th>play</th>\n",
              "    </tr>\n",
              "  </thead>\n",
              "  <tbody>\n",
              "    <tr>\n",
              "      <th>0</th>\n",
              "      <td>2</td>\n",
              "      <td>1</td>\n",
              "      <td>0</td>\n",
              "      <td>1</td>\n",
              "      <td>0</td>\n",
              "    </tr>\n",
              "    <tr>\n",
              "      <th>1</th>\n",
              "      <td>2</td>\n",
              "      <td>1</td>\n",
              "      <td>0</td>\n",
              "      <td>0</td>\n",
              "      <td>0</td>\n",
              "    </tr>\n",
              "    <tr>\n",
              "      <th>2</th>\n",
              "      <td>0</td>\n",
              "      <td>1</td>\n",
              "      <td>0</td>\n",
              "      <td>1</td>\n",
              "      <td>1</td>\n",
              "    </tr>\n",
              "    <tr>\n",
              "      <th>3</th>\n",
              "      <td>1</td>\n",
              "      <td>2</td>\n",
              "      <td>0</td>\n",
              "      <td>1</td>\n",
              "      <td>1</td>\n",
              "    </tr>\n",
              "    <tr>\n",
              "      <th>4</th>\n",
              "      <td>1</td>\n",
              "      <td>0</td>\n",
              "      <td>1</td>\n",
              "      <td>1</td>\n",
              "      <td>1</td>\n",
              "    </tr>\n",
              "  </tbody>\n",
              "</table>\n",
              "</div>"
            ],
            "text/plain": [
              "   outlook  temp  humidity  wind  play\n",
              "0        2     1         0     1     0\n",
              "1        2     1         0     0     0\n",
              "2        0     1         0     1     1\n",
              "3        1     2         0     1     1\n",
              "4        1     0         1     1     1"
            ]
          },
          "metadata": {
            "tags": []
          },
          "execution_count": 2
        }
      ]
    },
    {
      "cell_type": "markdown",
      "metadata": {
        "id": "rgQTv9_A5_SA"
      },
      "source": [
        "###**Categorising Features(X) and target(y) variables**"
      ]
    },
    {
      "cell_type": "code",
      "metadata": {
        "id": "2a1dk5VGcLnD"
      },
      "source": [
        "X = df.iloc[:,:-1]\r\n",
        "y = df.iloc[:,-1]"
      ],
      "execution_count": null,
      "outputs": []
    },
    {
      "cell_type": "markdown",
      "metadata": {
        "id": "vrBnW8006hOT"
      },
      "source": [
        "### **Splitting Dataset into training and testing sets**"
      ]
    },
    {
      "cell_type": "code",
      "metadata": {
        "colab": {
          "base_uri": "https://localhost:8080/"
        },
        "id": "Q2084eYxnrtA",
        "outputId": "dd67146d-f4aa-4a19-b312-b59a3d15740d"
      },
      "source": [
        "from sklearn.model_selection import train_test_split\r\n",
        "X_train, X_test, y_train, y_test = train_test_split(X,y,test_size=0.3,random_state=1)\r\n",
        "len(X_train)"
      ],
      "execution_count": null,
      "outputs": [
        {
          "output_type": "execute_result",
          "data": {
            "text/plain": [
              "9"
            ]
          },
          "metadata": {
            "tags": []
          },
          "execution_count": 4
        }
      ]
    },
    {
      "cell_type": "markdown",
      "metadata": {
        "id": "zcdQCqZt7S91"
      },
      "source": [
        "### **Training the model**"
      ]
    },
    {
      "cell_type": "code",
      "metadata": {
        "colab": {
          "base_uri": "https://localhost:8080/"
        },
        "id": "sOEFmgbpr_93",
        "outputId": "d3991bc2-7426-470a-a0cc-9a829c39c5a6"
      },
      "source": [
        "from sklearn.naive_bayes import GaussianNB\r\n",
        "model = GaussianNB()\r\n",
        "model.fit(X_train, y_train)  # Fit adjusts the weight according to the data values. "
      ],
      "execution_count": null,
      "outputs": [
        {
          "output_type": "execute_result",
          "data": {
            "text/plain": [
              "GaussianNB(priors=None, var_smoothing=1e-09)"
            ]
          },
          "metadata": {
            "tags": []
          },
          "execution_count": 5
        }
      ]
    },
    {
      "cell_type": "markdown",
      "metadata": {
        "id": "-u8oVouM7d73"
      },
      "source": [
        "### **Measuring the accuracy**"
      ]
    },
    {
      "cell_type": "code",
      "metadata": {
        "colab": {
          "base_uri": "https://localhost:8080/"
        },
        "id": "I4l901u9M2ui",
        "outputId": "4ddb517a-0aaf-4d87-c0fe-77a0803845a7"
      },
      "source": [
        "from sklearn.metrics import accuracy_score\r\n",
        "y_pred = model.predict(X_test)\r\n",
        "accuracy = accuracy_score(y_test, y_pred)\r\n",
        "print(\"The Accuracy is: \",accuracy)"
      ],
      "execution_count": null,
      "outputs": [
        {
          "output_type": "stream",
          "text": [
            "The Accuracy is:  0.8\n"
          ],
          "name": "stdout"
        }
      ]
    },
    {
      "cell_type": "markdown",
      "metadata": {
        "id": "avWq4kAy9s-b"
      },
      "source": [
        "### **Making predictions**"
      ]
    },
    {
      "cell_type": "code",
      "metadata": {
        "colab": {
          "base_uri": "https://localhost:8080/"
        },
        "id": "X5myGN_8udMX",
        "outputId": "2aa444f8-9cff-4faf-8ff7-159b1160520e"
      },
      "source": [
        "df.loc[1]  # For this condition,the prediction is made"
      ],
      "execution_count": null,
      "outputs": [
        {
          "output_type": "execute_result",
          "data": {
            "text/plain": [
              "outlook     2\n",
              "temp        1\n",
              "humidity    0\n",
              "wind        0\n",
              "play        0\n",
              "Name: 1, dtype: int64"
            ]
          },
          "metadata": {
            "tags": []
          },
          "execution_count": 14
        }
      ]
    },
    {
      "cell_type": "code",
      "metadata": {
        "colab": {
          "base_uri": "https://localhost:8080/"
        },
        "id": "iepka_MtGtdc",
        "outputId": "688168db-bc86-469d-dc63-76fb093ef394"
      },
      "source": [
        "# Outlook=Sunny(2), Temperature=Hot(1), Humidity=High(0), Wind=Strong(0)\r\n",
        "result = model.predict([[2,1,0,0]])  \r\n",
        "print(\"Predicted value: \",result)\r\n",
        "if result:\r\n",
        "  print(\"Play Tennis: YES\")\r\n",
        "else:\r\n",
        "  print(\"Play Tennis: NO\")"
      ],
      "execution_count": null,
      "outputs": [
        {
          "output_type": "stream",
          "text": [
            "Predicted value:  [0]\n",
            "Play Tennis: NO\n"
          ],
          "name": "stdout"
        }
      ]
    },
    {
      "cell_type": "markdown",
      "metadata": {
        "id": "jx9zLtHf-Pi6"
      },
      "source": [
        "### **If x=(Outlook=Sunny, Temperature=Hot, Humidity=High, Wind=Strong)**\r\n",
        "\r\n",
        "# The predicted value gives [0] that is **No**."
      ]
    }
  ]
}